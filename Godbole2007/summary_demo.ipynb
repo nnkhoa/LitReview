{
 "metadata": {
  "language_info": {
   "codemirror_mode": {
    "name": "ipython",
    "version": 3
   },
   "file_extension": ".py",
   "mimetype": "text/x-python",
   "name": "python",
   "nbconvert_exporter": "python",
   "pygments_lexer": "ipython3",
   "version": "3.7.6-final"
  },
  "orig_nbformat": 2,
  "kernelspec": {
   "name": "python_defaultSpec_1598262406528",
   "display_name": "Python 3.7.6 64-bit ('EDFParser': conda)"
  }
 },
 "nbformat": 4,
 "nbformat_minor": 2,
 "cells": [
  {
   "cell_type": "markdown",
   "metadata": {},
   "source": [
    "# Large Scale Sentiment Analysis \n",
    "## Summary and Demo\n"
   ]
  },
  {
   "cell_type": "markdown",
   "metadata": {},
   "source": [
    "### Main Purpose/Contribution\n",
    "\n",
    "* To automatically generate lexicon for Sentiment Analysis\n",
    "\n",
    "    + Without the need for human curation\n",
    "    + Increase richness of the dictionary means more depth in analysis\n",
    "    \n",
    "* Addressing the problem of weak coherence when expanding the lexicon using synonyms/antonyms\n",
    "\n",
    "    + Relations between synonyms are usually represented in graph\n",
    "    + The further the distance from the seeded word, the less relevant the synonyms\n",
    "    "
   ]
  },
  {
   "cell_type": "markdown",
   "metadata": {},
   "source": [
    "### Sentiment Lexicon Generation\n",
    "\n",
    "* Path-based analysis\n",
    "        \n",
    "    + Explore all possible paths\n",
    "    + Determine shortest path\n",
    "    \n",
    "* Generate Sentiment Dictionary from list of seeded word\n",
    "\n",
    "    + Depth of graph (hop from seeded words) is pre-determine (5, in the publication).\n",
    "    + Based on WordNet, fetch high ranking synonyms and antonyms\n",
    "    + Significant Score\n",
    "        \n",
    "        - Determine factor: distance from the seeded word (based on WordNet).\n",
    "        - The further the distance, the lesser the score, the lesser the relevancy \n",
    "\n",
    "    + Analyze the number of sentiment polarity flips in all paths, keep only those satisfy threshold\n",
    "\n",
    "        - Assumption: The more flips, the less reliable the path \n",
    "        - After graph construction, re-enumerate all paths to determine the number of flips\n",
    "        "
   ]
  },
  {
   "cell_type": "code",
   "execution_count": null,
   "metadata": {
    "tags": []
   },
   "outputs": [],
   "source": [
    "import lexicon_builder\n",
    "from WordGraph import Graph\n",
    "\n",
    "seeded_word_list = [('good', 0, 1)]\n",
    "\n",
    "connections = lexicon_builder.build_connections(0, seeded_word_list, [])\n",
    "\n",
    "g = Graph(connections)"
   ]
  },
  {
   "cell_type": "code",
   "execution_count": null,
   "metadata": {
    "tags": [
     "outputPrepend"
    ]
   },
   "outputs": [],
   "source": [
    "import pprint\n",
    "pretty_print = pprint.PrettyPrinter()\n",
    "pretty_print.pprint(g.graph)"
   ]
  },
  {
   "cell_type": "code",
   "execution_count": null,
   "metadata": {},
   "outputs": [],
   "source": []
  }
 ]
}