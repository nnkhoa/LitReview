{
 "metadata": {
  "language_info": {
   "codemirror_mode": {
    "name": "ipython",
    "version": 3
   },
   "file_extension": ".py",
   "mimetype": "text/x-python",
   "name": "python",
   "nbconvert_exporter": "python",
   "pygments_lexer": "ipython3",
   "version": "3.7.6-final"
  },
  "orig_nbformat": 2,
  "kernelspec": {
   "name": "python_defaultSpec_1598262406528",
   "display_name": "Python 3.7.6 64-bit ('EDFParser': conda)"
  }
 },
 "nbformat": 4,
 "nbformat_minor": 2,
 "cells": [
  {
   "cell_type": "markdown",
   "metadata": {},
   "source": [
    "# Large Scale Sentiment Analysis \n",
    "## Summary and Demo\n"
   ]
  },
  {
   "cell_type": "markdown",
   "metadata": {},
   "source": [
    "### Main Purpose/Contribution\n",
    "\n",
    "* To automatically generate lexicon for Sentiment Analysis\n",
    "\n",
    "    + Without the need for human curation\n",
    "    + Increase richness of the dictionary means more depth in analysis\n",
    "    \n",
    "* Addressing the problem of weak coherence when expanding the lexicon using synonyms/antonyms\n",
    "\n",
    "    + Relations between synonyms are usually represented in graph\n",
    "    + The further the distance from the seeded word, the less relevant the synonyms\n",
    "    "
   ]
  },
  {
   "cell_type": "markdown",
   "metadata": {},
   "source": [
    "### Sentiment Lexicon Generation\n",
    "\n",
    "* Path-based analysis\n",
    "        \n",
    "    + Explore all possible paths\n",
    "    + Determine shortest path\n",
    "    \n",
    "* Generate Sentiment Dictionary from list of seeded word\n",
    "\n",
    "    + Depth of graph (hop from seeded words) is pre-determine (5, in the publication).\n",
    "    + Based on WordNet, fetch high ranking synonyms and antonyms\n",
    "    + Significant Score\n",
    "        \n",
    "        - Determine factor: distance from the seeded word (based on WordNet).\n",
    "        - The further the distance, the lesser the score, the lesser the relevancy \n",
    "\n",
    "    + Analyze the number of sentiment polarity flips in all paths, keep only those satisfy threshold\n",
    "\n",
    "        - Assumption: The more flips, the less reliable the path \n",
    "        - After graph construction, re-enumerate all paths to determine the number of flips\n",
    "        "
   ]
  },
  {
   "cell_type": "code",
   "execution_count": 1,
   "metadata": {
    "tags": []
   },
   "outputs": [],
   "source": [
    "import lexicon_builder\n",
    "from WordGraph import Graph\n",
    "\n",
    "seeded_word_list = [('good', 0, 1)]\n",
    "\n",
    "connections = lexicon_builder.build_connections(0, seeded_word_list, [])\n",
    "\n",
    "g = Graph(connections)"
   ]
  },
  {
   "cell_type": "code",
   "execution_count": 2,
   "metadata": {
    "tags": [
     "outputPrepend"
    ]
   },
   "outputs": [
    {
     "output_type": "stream",
     "name": "stdout",
     "text": "                                 ('goodness', 4.0, 1)},\n             ('goodness', 3.0, 1): {('bad', 1.0, -1),\n                                    ('bad', 3.0, -1),\n                                    ('badness', 1.0, -1),\n                                    ('badness', 3.0, -1),\n                                    ('evil', 4.0, -1),\n                                    ('evilness', 4.0, -1),\n                                    ('good', 1.0, 1),\n                                    ('goodness', 1.0, 1)},\n             ('goodness', 4.0, 1): {('bad', 3.0, -1),\n                                    ('badness', 3.0, -1),\n                                    ('evil', 1.0, -1),\n                                    ('evil', 4.0, -1),\n                                    ('evilness', 1.0, -1),\n                                    ('evilness', 4.0, -1),\n                                    ('good', 1.0, 1),\n                                    ('goodness', 1.0, 1)},\n             ('gravely', 1.0, -1): {('badly', 0, -1), ('badly', 1.0, -1)},\n             ('grimness', 1.0, -1): {('severeness', 1.0, -1),\n                                     ('severity', 1.0, -1)},\n             ('hardness', 1.0, -1): {('severeness', 1.0, -1),\n                                     ('severity', 1.0, -1)},\n             ('hardship', 1.0, -1): {('severeness', 1.0, -1),\n                                     ('severity', 1.0, -1)},\n             ('harshness', 1.0, -1): {('severeness', 1.0, -1),\n                                      ('severity', 1.0, -1)},\n             ('head', 1.0, 1): {('fountainhead', 1.0, 1)},\n             ('headspring', 1.0, 1): {('fountainhead', 1.0, 1)},\n             ('honk', 1.0, -1): {('sick', 1.0, -1)},\n             ('ill', 1.0, -1): {('ailment', 1.0, -1),\n                                ('badly', 0, -1),\n                                ('badly', 1.0, -1),\n                                ('complaint', 1.0, -1),\n                                ('ill', 1.0, -1),\n                                ('ill', 8.0, -1),\n                                ('ill', 13.0, -1),\n                                ('poorly', 1.0, -1),\n                                ('sick', 1.0, -1),\n                                ('well', 6.0, 1)},\n             ('ill', 8.0, -1): {('ailment', 1.0, -1),\n                                ('badly', 1.0, -1),\n                                ('complaint', 1.0, -1),\n                                ('good', 0, 1),\n                                ('good', 1.0, 1),\n                                ('good', 3.0, 1),\n                                ('good', 4.0, 1),\n                                ('ill', 1.0, -1),\n                                ('poorly', 1.0, -1),\n                                ('sick', 1.0, -1),\n                                ('well', 6.0, 1)},\n             ('ill', 13.0, -1): {('ailment', 1.0, -1),\n                                 ('badly', 1.0, -1),\n                                 ('complaint', 1.0, -1),\n                                 ('ill', 1.0, -1),\n                                 ('poorly', 1.0, -1),\n                                 ('sick', 1.0, -1),\n                                 ('well', 1.0, 1),\n                                 ('well', 6.0, 1)},\n             ('immorality', 1.0, -1): {('evil', 1.0, -1),\n                                       ('evil', 4.0, -1),\n                                       ('immorality', 1.0, -1),\n                                       ('iniquity', 1.0, -1),\n                                       ('morality', 3.0, 1),\n                                       ('wickedness', 1.0, -1)},\n             ('impishness', 1.0, -1): {('mischievousness', 1.0, -1)},\n             ('inclemency', 1.0, -1): {('severeness', 1.0, -1),\n                                       ('severity', 1.0, -1)},\n             ('iniquity', 1.0, -1): {('dark', 1.0, -1),\n                                     ('darkness', 1.0, -1),\n                                     ('evil', 1.0, -1),\n                                     ('evil', 4.0, -1),\n                                     ('immorality', 1.0, -1),\n                                     ('iniquity', 1.0, -1),\n                                     ('injustice', 1.0, -1),\n                                     ('shabbiness', 1.0, -1),\n                                     ('unfairness', 1.0, -1),\n                                     ('wickedness', 1.0, -1)},\n             ('injustice', 1.0, -1): {('iniquity', 1.0, -1)},\n             ('intimately', 1.0, 1): {('closely', 1.0, 1),\n                                      ('intimately', 1.0, 1),\n                                      ('nearly', 1.0, 1),\n                                      ('well', 1.0, 1),\n                                      ('well', 6.0, 1)},\n             ('intumesce', 1.0, 1): {('swell', 1.0, 1)},\n             ('keep_down', 3.0, 1): {('sick', 1.0, -1)},\n             ('loathsomeness', 1.0, -1): {('wickedness', 1.0, -1)},\n             ('lousiness', 1.0, -1): {('wickedness', 1.0, -1)},\n             ('mischief', 1.0, -1): {('mischievousness', 1.0, -1)},\n             ('mischief-making', 1.0, -1): {('mischievousness', 1.0, -1)},\n             ('mischievously', 1.0, -1): {('badly', 0, -1), ('badly', 1.0, -1)},\n             ('mischievousness', 1.0, -1): {('badness', 1.0, -1),\n                                            ('badness', 3.0, -1),\n                                            ('devilment', 1.0, -1),\n                                            ('devilry', 1.0, -1),\n                                            ('deviltry', 1.0, -1),\n                                            ('impishness', 1.0, -1),\n                                            ('mischief', 1.0, -1),\n                                            ('mischief-making', 1.0, -1),\n                                            ('mischievousness', 1.0, -1),\n                                            ('naughtiness', 1.0, -1),\n                                            ('puckishness', 1.0, -1),\n                                            ('rascality', 1.0, -1),\n                                            ('roguery', 1.0, -1),\n                                            ('roguishness', 1.0, -1),\n                                            ('shenanigan', 1.0, -1),\n                                            ('whimsicality', 1.0, -1)},\n             ('morality', 3.0, 1): {('immorality', 1.0, -1)},\n             ('naughtily', 1.0, -1): {('badly', 0, -1), ('badly', 1.0, -1)},\n             ('naughtiness', 1.0, -1): {('badness', 1.0, -1),\n                                        ('badness', 3.0, -1),\n                                        ('mischievousness', 1.0, -1),\n                                        ('naughtiness', 1.0, -1)},\n             ('nearly', 1.0, 1): {('intimately', 1.0, 1)},\n             ('nefariousness', 1.0, -1): {('wickedness', 1.0, -1)},\n             ('poorly', 1.0, -1): {('badly', 0, -1),\n                                   ('badly', 1.0, -1),\n                                   ('ill', 1.0, -1),\n                                   ('ill', 8.0, -1),\n                                   ('ill', 13.0, -1),\n                                   ('poorly', 1.0, -1),\n                                   ('well', 6.0, 1)},\n             ('puckishness', 1.0, -1): {('mischievousness', 1.0, -1)},\n             ('puff_up', 1.0, 1): {('swell', 1.0, 1)},\n             ('puke', 1.0, -1): {('sick', 1.0, -1)},\n             ('purge', 1.0, -1): {('sick', 1.0, -1)},\n             ('rascality', 1.0, -1): {('mischievousness', 1.0, -1)},\n             ('regorge', 1.0, -1): {('sick', 1.0, -1)},\n             ('regretful', 0, -1): {('unregretful', 0, 1)},\n             ('regretful', 1.0, -1): {('bad', 1.0, -1),\n                                      ('bad', 3.0, -1),\n                                      ('regretful', 1.0, -1),\n                                      ('sorry', 1.0, -1),\n                                      ('unregretful', 0, 1)},\n             ('regurgitate', 1.0, -1): {('sick', 1.0, -1)},\n             ('repulsiveness', 1.0, -1): {('wickedness', 1.0, -1)},\n             ('retch', 1.0, -1): {('sick', 1.0, -1)},\n             ('rigor', 1.0, -1): {('severeness', 1.0, -1),\n                                  ('severity', 1.0, -1)},\n             ('rigorousness', 1.0, -1): {('severeness', 1.0, -1),\n                                         ('severity', 1.0, -1)},\n             ('rigour', 1.0, -1): {('severeness', 1.0, -1),\n                                   ('severity', 1.0, -1)},\n             ('rigourousness', 1.0, -1): {('severeness', 1.0, -1),\n                                          ('severity', 1.0, -1)},\n             ('roguery', 1.0, -1): {('mischievousness', 1.0, -1)},\n             ('roguishness', 1.0, -1): {('mischievousness', 1.0, -1)},\n             ('seriously', 1.0, -1): {('badly', 0, -1), ('badly', 1.0, -1)},\n             ('severely', 1.0, -1): {('badly', 0, -1), ('badly', 1.0, -1)},\n             ('severeness', 1.0, -1): {('asperity', 1.0, -1),\n                                       ('austereness', 1.0, -1),\n                                       ('badness', 1.0, -1),\n                                       ('badness', 3.0, -1),\n                                       ('grimness', 1.0, -1),\n                                       ('hardness', 1.0, -1),\n                                       ('hardship', 1.0, -1),\n                                       ('harshness', 1.0, -1),\n                                       ('inclemency', 1.0, -1),\n                                       ('rigor', 1.0, -1),\n                                       ('rigorousness', 1.0, -1),\n                                       ('rigour', 1.0, -1),\n                                       ('rigourousness', 1.0, -1),\n                                       ('severeness', 1.0, -1),\n                                       ('severity', 1.0, -1),\n                                       ('stiffness', 1.0, -1)},\n             ('severity', 1.0, -1): {('asperity', 1.0, -1),\n                                     ('austereness', 1.0, -1),\n                                     ('badness', 1.0, -1),\n                                     ('badness', 3.0, -1),\n                                     ('grimness', 1.0, -1),\n                                     ('hardness', 1.0, -1),\n                                     ('hardship', 1.0, -1),\n                                     ('harshness', 1.0, -1),\n                                     ('inclemency', 1.0, -1),\n                                     ('rigor', 1.0, -1),\n                                     ('rigorousness', 1.0, -1),\n                                     ('rigour', 1.0, -1),\n                                     ('rigourousness', 1.0, -1),\n                                     ('severeness', 1.0, -1),\n                                     ('severity', 1.0, -1),\n                                     ('stiffness', 1.0, -1)},\n             ('shabbiness', 1.0, -1): {('iniquity', 1.0, -1)},\n             ('sheik', 1.0, 1): {('swell', 1.0, 1)},\n             ('shenanigan', 1.0, -1): {('mischievousness', 1.0, -1)},\n             ('sick', 1.0, -1): {('barf', 1.0, -1),\n                                 ('be_sick', 1.0, -1),\n                                 ('cast', 1.0, -1),\n                                 ('cat', 1.0, -1),\n                                 ('chuck', 1.0, -1),\n                                 ('disgorge', 1.0, -1),\n                                 ('honk', 1.0, -1),\n                                 ('ill', 1.0, -1),\n                                 ('ill', 8.0, -1),\n                                 ('ill', 13.0, -1),\n                                 ('keep_down', 3.0, 1),\n                                 ('puke', 1.0, -1),\n                                 ('purge', 1.0, -1),\n                                 ('regorge', 1.0, -1),\n                                 ('regurgitate', 1.0, -1),\n                                 ('retch', 1.0, -1),\n                                 ('sick', 1.0, -1),\n                                 ('spew', 1.0, -1),\n                                 ('spue', 1.0, -1),\n                                 ('throw_up', 1.0, -1),\n                                 ('upchuck', 1.0, -1),\n                                 ('vomit', 1.0, -1),\n                                 ('vomit_up', 1.0, -1),\n                                 ('well', 6.0, 1)},\n             ('sin', 1.0, -1): {('wickedness', 1.0, -1)},\n             ('sinfulness', 1.0, -1): {('wickedness', 1.0, -1)},\n             ('sliminess', 1.0, -1): {('wickedness', 1.0, -1)},\n             ('sorry', 1.0, -1): {('bad', 1.0, -1),\n                                  ('bad', 3.0, -1),\n                                  ('regretful', 1.0, -1),\n                                  ('sorry', 1.0, -1),\n                                  ('unregretful', 0, 1)},\n             ('soundly', 1.0, 1): {('good', 0, 1),\n                                   ('good', 1.0, 1),\n                                   ('good', 3.0, 1),\n                                   ('good', 4.0, 1),\n                                   ('soundly', 1.0, 1),\n                                   ('thoroughly', 1.0, 1)},\n             ('spew', 1.0, -1): {('sick', 1.0, -1)},\n             ('spue', 1.0, -1): {('sick', 1.0, -1)},\n             ('stiffness', 1.0, -1): {('severeness', 1.0, -1),\n                                      ('severity', 1.0, -1)},\n             ('substantially', 1.0, 1): {('considerably', 1.0, 1),\n                                         ('substantially', 1.0, 1),\n                                         ('well', 1.0, 1),\n                                         ('well', 6.0, 1)},\n             ('swell', 1.0, 1): {('beau', 1.0, 1),\n                                 ('clotheshorse', 1.0, 1),\n                                 ('crestless_wave', 1.0, 1),\n                                 ('dandy', 1.0, 1),\n                                 ('dude', 1.0, 1),\n                                 ('fashion_plate', 1.0, 1),\n                                 ('fop', 1.0, 1),\n                                 ('gallant', 1.0, 1),\n                                 ('intumesce', 1.0, 1),\n                                 ('puff_up', 1.0, 1),\n                                 ('sheik', 1.0, 1),\n                                 ('swell', 1.0, 1),\n                                 ('swell_up', 1.0, 1),\n                                 ('tumefy', 1.0, 1),\n                                 ('tumesce', 1.0, 1),\n                                 ('well', 1.0, 1),\n                                 ('well', 6.0, 1),\n                                 ('well_up', 1.0, 1)},\n             ('swell_up', 1.0, 1): {('swell', 1.0, 1)},\n             ('thoroughly', 1.0, 1): {('exhaustively', 1.0, 1),\n                                      ('good', 0, 1),\n                                      ('good', 1.0, 1),\n                                      ('good', 3.0, 1),\n                                      ('good', 4.0, 1),\n                                      ('soundly', 1.0, 1),\n                                      ('thoroughly', 1.0, 1)},\n             ('throw_up', 1.0, -1): {('sick', 1.0, -1)},\n             ('trade_good', 1.0, 1): {('commodity', 1.0, 1),\n                                      ('good', 0, 1),\n                                      ('good', 1.0, 1),\n                                      ('good', 3.0, 1),\n                                      ('good', 4.0, 1),\n                                      ('trade_good', 1.0, 1)},\n             ('tumefy', 1.0, 1): {('swell', 1.0, 1)},\n             ('tumesce', 1.0, 1): {('swell', 1.0, 1)},\n             ('ugliness', 1.0, -1): {('wickedness', 1.0, -1)},\n             ('uncomfortably', 0, -1): {('comfortably', 1.0, 1)},\n             ('unfairness', 1.0, -1): {('iniquity', 1.0, -1)},\n             ('unregretful', 0, 1): {('bad', 1.0, -1),\n                                     ('bad', 3.0, -1),\n                                     ('regretful', 0, -1),\n                                     ('regretful', 1.0, -1),\n                                     ('sorry', 1.0, -1),\n                                     ('unregretful', 1.0, 1),\n                                     ('unregretting', 1.0, 1)},\n             ('unregretful', 1.0, 1): {('unregretful', 0, 1)},\n             ('unregretting', 1.0, 1): {('unregretful', 0, 1)},\n             ('upchuck', 1.0, -1): {('sick', 1.0, -1)},\n             ('vileness', 1.0, -1): {('wickedness', 1.0, -1)},\n             ('vomit', 1.0, -1): {('sick', 1.0, -1)},\n             ('vomit_up', 1.0, -1): {('sick', 1.0, -1)},\n             ('well', 1.0, 1): {('advantageously', 1.0, 1),\n                                ('badly', 0, -1),\n                                ('comfortably', 1.0, 1),\n                                ('considerably', 1.0, 1),\n                                ('disadvantageously', 0, -1),\n                                ('easily', 1.0, 1),\n                                ('fountainhead', 1.0, 1),\n                                ('good', 0, 1),\n                                ('good', 1.0, 1),\n                                ('good', 3.0, 1),\n                                ('good', 4.0, 1),\n                                ('ill', 13.0, -1),\n                                ('intimately', 1.0, 1),\n                                ('substantially', 1.0, 1),\n                                ('swell', 1.0, 1),\n                                ('well', 1.0, 1),\n                                ('well', 6.0, 1),\n                                ('wellspring', 1.0, 1)},\n             ('well', 6.0, 1): {('advantageously', 1.0, 1),\n                                ('badly', 0, -1),\n                                ('badly', 1.0, -1),\n                                ('comfortably', 1.0, 1),\n                                ('considerably', 1.0, 1),\n                                ('disadvantageously', 0, -1),\n                                ('easily', 1.0, 1),\n                                ('fountainhead', 1.0, 1),\n                                ('good', 1.0, 1),\n                                ('ill', 1.0, -1),\n                                ('ill', 8.0, -1),\n                                ('ill', 13.0, -1),\n                                ('intimately', 1.0, 1),\n                                ('poorly', 1.0, -1),\n                                ('sick', 1.0, -1),\n                                ('substantially', 1.0, 1),\n                                ('swell', 1.0, 1),\n                                ('well', 1.0, 1),\n                                ('wellspring', 1.0, 1)},\n             ('well_up', 1.0, 1): {('swell', 1.0, 1)},\n             ('wellhead', 1.0, 1): {('wellspring', 1.0, 1)},\n             ('wellspring', 1.0, 1): {('fountainhead', 1.0, 1),\n                                      ('well', 1.0, 1),\n                                      ('well', 6.0, 1),\n                                      ('wellhead', 1.0, 1),\n                                      ('wellspring', 1.0, 1)},\n             ('whimsicality', 1.0, -1): {('mischievousness', 1.0, -1)},\n             ('wickedness', 1.0, -1): {('dark', 1.0, -1),\n                                       ('darkness', 1.0, -1),\n                                       ('evil', 1.0, -1),\n                                       ('evil', 4.0, -1),\n                                       ('immorality', 1.0, -1),\n                                       ('iniquity', 1.0, -1),\n                                       ('loathsomeness', 1.0, -1),\n                                       ('lousiness', 1.0, -1),\n                                       ('nefariousness', 1.0, -1),\n                                       ('repulsiveness', 1.0, -1),\n                                       ('sin', 1.0, -1),\n                                       ('sinfulness', 1.0, -1),\n                                       ('sliminess', 1.0, -1),\n                                       ('ugliness', 1.0, -1),\n                                       ('vileness', 1.0, -1),\n                                       ('wickedness', 1.0, -1)}})\n"
    }
   ],
   "source": [
    "import pprint\n",
    "pretty_print = pprint.PrettyPrinter()\n",
    "pretty_print.pprint(g.graph)"
   ]
  },
  {
   "cell_type": "code",
   "execution_count": null,
   "metadata": {},
   "outputs": [],
   "source": []
  }
 ]
}